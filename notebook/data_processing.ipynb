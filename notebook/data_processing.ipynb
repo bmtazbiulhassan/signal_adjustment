{
 "cells": [
  {
   "cell_type": "markdown",
   "id": "3ed0324e-9b88-4f57-ab4b-3c4ff692bd81",
   "metadata": {},
   "source": [
    "# Import Libraries"
   ]
  },
  {
   "cell_type": "code",
   "execution_count": 1,
   "id": "7566b051-e540-4bbc-8e68-7ffc1c145406",
   "metadata": {},
   "outputs": [],
   "source": [
    "import warnings\n",
    "warnings.simplefilter(action='ignore', category=FutureWarning)"
   ]
  },
  {
   "cell_type": "code",
   "execution_count": 2,
   "id": "d94fcc56-149b-4c4b-a0bf-efa11f380ec5",
   "metadata": {},
   "outputs": [],
   "source": [
    "import numpy as np\n",
    "import pandas as pd\n",
    "\n",
    "import tqdm\n",
    "import glob\n",
    "import os"
   ]
  },
  {
   "cell_type": "code",
   "execution_count": 3,
   "id": "fe469fad-3e18-4f1a-8ddf-4119e704ec0e",
   "metadata": {},
   "outputs": [],
   "source": [
    "# Maximize column display \n",
    "pd.set_option('display.max_colwidth', None)     # Display all content within each cell without truncation\n",
    "pd.set_option('display.max_columns', None)      # Display all columns\n",
    "pd.set_option('display.width', None)            # Display entire width of DataFrame is displayed\n",
    "\n",
    "pd.set_option('display.max_rows', None)         # Display all rows"
   ]
  },
  {
   "cell_type": "markdown",
   "id": "ddfd6b3b-5b39-4303-b97e-346ef0784394",
   "metadata": {},
   "source": [
    "# Load Data"
   ]
  },
  {
   "cell_type": "code",
   "execution_count": 4,
   "id": "2e4d0275-9caa-452d-8c8b-96c1554d0dc6",
   "metadata": {},
   "outputs": [],
   "source": [
    "signal_id = \"1435\""
   ]
  },
  {
   "cell_type": "code",
   "execution_count": 5,
   "id": "5fab2f3b-6244-4168-b244-f073529488bf",
   "metadata": {},
   "outputs": [
    {
     "name": "stderr",
     "output_type": "stream",
     "text": [
      "100%|█████████████████████████████████████████████████████████████████████████████████████████████████████████████████████████████████████████| 30/30 [00:00<00:00, 92.64it/s]"
     ]
    },
    {
     "name": "stdout",
     "output_type": "stream",
     "text": [
      "(16685, 54)\n"
     ]
    },
    {
     "name": "stderr",
     "output_type": "stream",
     "text": [
      "\n"
     ]
    },
    {
     "data": {
      "text/html": [
       "<div>\n",
       "<style scoped>\n",
       "    .dataframe tbody tr th:only-of-type {\n",
       "        vertical-align: middle;\n",
       "    }\n",
       "\n",
       "    .dataframe tbody tr th {\n",
       "        vertical-align: top;\n",
       "    }\n",
       "\n",
       "    .dataframe thead th {\n",
       "        text-align: right;\n",
       "    }\n",
       "</style>\n",
       "<table border=\"1\" class=\"dataframe\">\n",
       "  <thead>\n",
       "    <tr style=\"text-align: right;\">\n",
       "      <th></th>\n",
       "      <th>signalID</th>\n",
       "      <th>cycleNo</th>\n",
       "      <th>cycleBegin</th>\n",
       "      <th>cycleEnd</th>\n",
       "      <th>cycleLength</th>\n",
       "      <th>greenRatioPhase1</th>\n",
       "      <th>yellowRatioPhase1</th>\n",
       "      <th>redClearanceRatioPhase1</th>\n",
       "      <th>redRatioPhase1</th>\n",
       "      <th>greenRatioPhase2</th>\n",
       "      <th>yellowRatioPhase2</th>\n",
       "      <th>redClearanceRatioPhase2</th>\n",
       "      <th>redRatioPhase2</th>\n",
       "      <th>greenRatioPhase4</th>\n",
       "      <th>yellowRatioPhase4</th>\n",
       "      <th>redClearanceRatioPhase4</th>\n",
       "      <th>redRatioPhase4</th>\n",
       "      <th>greenRatioPhase5</th>\n",
       "      <th>yellowRatioPhase5</th>\n",
       "      <th>redClearanceRatioPhase5</th>\n",
       "      <th>redRatioPhase5</th>\n",
       "      <th>greenRatioPhase6</th>\n",
       "      <th>yellowRatioPhase6</th>\n",
       "      <th>redClearanceRatioPhase6</th>\n",
       "      <th>redRatioPhase6</th>\n",
       "      <th>greenRatioPhase7</th>\n",
       "      <th>yellowRatioPhase7</th>\n",
       "      <th>redClearanceRatioPhase7</th>\n",
       "      <th>redRatioPhase7</th>\n",
       "      <th>greenRatioPhase8</th>\n",
       "      <th>yellowRatioPhase8</th>\n",
       "      <th>redClearanceRatioPhase8</th>\n",
       "      <th>redRatioPhase8</th>\n",
       "      <th>greenRatioPhase3</th>\n",
       "      <th>yellowRatioPhase3</th>\n",
       "      <th>redClearanceRatioPhase3</th>\n",
       "      <th>redRatioPhase3</th>\n",
       "      <th>date</th>\n",
       "      <th>redClearanceRunCntPhase1</th>\n",
       "      <th>redClearanceRunFlagPhase1</th>\n",
       "      <th>redRunCntPhase1</th>\n",
       "      <th>redRunFlagPhase1</th>\n",
       "      <th>redClearanceRunCntPhase2</th>\n",
       "      <th>redClearanceRunFlagPhase2</th>\n",
       "      <th>redRunCntPhase2</th>\n",
       "      <th>redRunFlagPhase2</th>\n",
       "      <th>redClearanceRunCntPhase5</th>\n",
       "      <th>redClearanceRunFlagPhase5</th>\n",
       "      <th>redRunCntPhase5</th>\n",
       "      <th>redRunFlagPhase5</th>\n",
       "      <th>redClearanceRunCntPhase6</th>\n",
       "      <th>redClearanceRunFlagPhase6</th>\n",
       "      <th>redRunCntPhase6</th>\n",
       "      <th>redRunFlagPhase6</th>\n",
       "    </tr>\n",
       "  </thead>\n",
       "  <tbody>\n",
       "    <tr>\n",
       "      <th>0</th>\n",
       "      <td>1435</td>\n",
       "      <td>2</td>\n",
       "      <td>2024-01-01 00:02:38.300</td>\n",
       "      <td>2024-01-01 00:05:38.400</td>\n",
       "      <td>180.1</td>\n",
       "      <td>0.055</td>\n",
       "      <td>0.0305</td>\n",
       "      <td>0.0111</td>\n",
       "      <td>0.9034</td>\n",
       "      <td>0.3609</td>\n",
       "      <td>0.0305</td>\n",
       "      <td>0.0111</td>\n",
       "      <td>0.5974</td>\n",
       "      <td>0.2499</td>\n",
       "      <td>0.0267</td>\n",
       "      <td>0.0117</td>\n",
       "      <td>0.7118</td>\n",
       "      <td>0.0527</td>\n",
       "      <td>0.0305</td>\n",
       "      <td>0.0111</td>\n",
       "      <td>0.9056</td>\n",
       "      <td>0.3631</td>\n",
       "      <td>0.0305</td>\n",
       "      <td>0.0111</td>\n",
       "      <td>0.5952</td>\n",
       "      <td>0.1388</td>\n",
       "      <td>0.0244</td>\n",
       "      <td>0.0111</td>\n",
       "      <td>0.8257</td>\n",
       "      <td>0.2882</td>\n",
       "      <td>0.0267</td>\n",
       "      <td>0.0117</td>\n",
       "      <td>0.6735</td>\n",
       "      <td>0.1749</td>\n",
       "      <td>0.0267</td>\n",
       "      <td>0.0111</td>\n",
       "      <td>0.7873</td>\n",
       "      <td>2024-01-01</td>\n",
       "      <td>[0]</td>\n",
       "      <td>0</td>\n",
       "      <td>[1]</td>\n",
       "      <td>1</td>\n",
       "      <td>[0, 0, 0]</td>\n",
       "      <td>0</td>\n",
       "      <td>[1, 0, 0]</td>\n",
       "      <td>1</td>\n",
       "      <td>[0]</td>\n",
       "      <td>0</td>\n",
       "      <td>[1]</td>\n",
       "      <td>1</td>\n",
       "      <td>[0, 0, 0]</td>\n",
       "      <td>0</td>\n",
       "      <td>[1, 0, 0]</td>\n",
       "      <td>1</td>\n",
       "    </tr>\n",
       "  </tbody>\n",
       "</table>\n",
       "</div>"
      ],
      "text/plain": [
       "  signalID  cycleNo              cycleBegin                cycleEnd  \\\n",
       "0     1435        2 2024-01-01 00:02:38.300 2024-01-01 00:05:38.400   \n",
       "\n",
       "   cycleLength  greenRatioPhase1  yellowRatioPhase1  redClearanceRatioPhase1  \\\n",
       "0        180.1             0.055             0.0305                   0.0111   \n",
       "\n",
       "   redRatioPhase1  greenRatioPhase2  yellowRatioPhase2  \\\n",
       "0          0.9034            0.3609             0.0305   \n",
       "\n",
       "   redClearanceRatioPhase2  redRatioPhase2  greenRatioPhase4  \\\n",
       "0                   0.0111          0.5974            0.2499   \n",
       "\n",
       "   yellowRatioPhase4  redClearanceRatioPhase4  redRatioPhase4  \\\n",
       "0             0.0267                   0.0117          0.7118   \n",
       "\n",
       "   greenRatioPhase5  yellowRatioPhase5  redClearanceRatioPhase5  \\\n",
       "0            0.0527             0.0305                   0.0111   \n",
       "\n",
       "   redRatioPhase5  greenRatioPhase6  yellowRatioPhase6  \\\n",
       "0          0.9056            0.3631             0.0305   \n",
       "\n",
       "   redClearanceRatioPhase6  redRatioPhase6  greenRatioPhase7  \\\n",
       "0                   0.0111          0.5952            0.1388   \n",
       "\n",
       "   yellowRatioPhase7  redClearanceRatioPhase7  redRatioPhase7  \\\n",
       "0             0.0244                   0.0111          0.8257   \n",
       "\n",
       "   greenRatioPhase8  yellowRatioPhase8  redClearanceRatioPhase8  \\\n",
       "0            0.2882             0.0267                   0.0117   \n",
       "\n",
       "   redRatioPhase8  greenRatioPhase3  yellowRatioPhase3  \\\n",
       "0          0.6735            0.1749             0.0267   \n",
       "\n",
       "   redClearanceRatioPhase3  redRatioPhase3        date  \\\n",
       "0                   0.0111          0.7873  2024-01-01   \n",
       "\n",
       "  redClearanceRunCntPhase1  redClearanceRunFlagPhase1 redRunCntPhase1  \\\n",
       "0                      [0]                          0             [1]   \n",
       "\n",
       "   redRunFlagPhase1 redClearanceRunCntPhase2  redClearanceRunFlagPhase2  \\\n",
       "0                 1                [0, 0, 0]                          0   \n",
       "\n",
       "  redRunCntPhase2  redRunFlagPhase2 redClearanceRunCntPhase5  \\\n",
       "0       [1, 0, 0]                 1                      [0]   \n",
       "\n",
       "   redClearanceRunFlagPhase5 redRunCntPhase5  redRunFlagPhase5  \\\n",
       "0                          0             [1]                 1   \n",
       "\n",
       "  redClearanceRunCntPhase6  redClearanceRunFlagPhase6 redRunCntPhase6  \\\n",
       "0                [0, 0, 0]                          0       [1, 0, 0]   \n",
       "\n",
       "   redRunFlagPhase6  \n",
       "0                 1  "
      ]
     },
     "execution_count": 5,
     "metadata": {},
     "output_type": "execute_result"
    }
   ],
   "source": [
    "# Load and merge all data\n",
    "filepaths = f\"../data/production/atspm/fdot_d7/feature_extraction/feature/cycle/vehicle_signal/spat/{signal_id}/*.pkl\"\n",
    "filepaths = [p for p in glob.glob(filepaths)]\n",
    "\n",
    "# get dates\n",
    "dates = [os.path.basename(filepath).split(\".\")[0] for filepath in filepaths]\n",
    "\n",
    "df_data = pd.DataFrame()\n",
    "for date in tqdm.tqdm(dates):\n",
    "    df_spat_date = pd.read_pickle(\n",
    "        f\"../data/production/atspm/fdot_d7/feature_extraction/feature/cycle/vehicle_signal/spat/1435/{date}.pkl\"\n",
    "    )\n",
    "    df_red_light_running_date = pd.read_pickle(\n",
    "        f\"../data/production/atspm/fdot_d7/feature_extraction/feature/cycle/vehicle_traffic/red_light_running/1435/{date}.pkl\"\n",
    "    )\n",
    "\n",
    "    df_data_date = pd.merge(df_spat_date, df_red_light_running_date, \n",
    "                            on=[\"signalID\", \"cycleNo\", \"date\", \"cycleBegin\", \"cycleEnd\", \"cycleLength\"])\n",
    "\n",
    "    df_data = pd.concat([df_data, df_data_date], axis=0, ignore_index=True)\n",
    "\n",
    "print(df_data.shape)\n",
    "df_data.head(1)"
   ]
  },
  {
   "cell_type": "code",
   "execution_count": 6,
   "id": "37ad1da8-bab6-4aee-9f2c-82de99630c06",
   "metadata": {},
   "outputs": [
    {
     "name": "stdout",
     "output_type": "stream",
     "text": [
      "\n",
      "Missing Values in Data:\n",
      "0\n"
     ]
    }
   ],
   "source": [
    "# Check for missing values in data\n",
    "print(\"\\nMissing Values in Data:\")\n",
    "print(df_data.isnull().sum().sum())"
   ]
  },
  {
   "cell_type": "code",
   "execution_count": 7,
   "id": "616eb2da-a624-4cbf-8b1d-65a3a18bf9f2",
   "metadata": {},
   "outputs": [
    {
     "data": {
      "text/plain": [
       "30"
      ]
     },
     "execution_count": 7,
     "metadata": {},
     "output_type": "execute_result"
    }
   ],
   "source": [
    "dates = df_data.date.unique().tolist()\n",
    "len(dates)"
   ]
  },
  {
   "cell_type": "markdown",
   "id": "89dda8c5-ac27-4d27-b64c-264c50096a4d",
   "metadata": {},
   "source": [
    "# Data Processing"
   ]
  },
  {
   "cell_type": "code",
   "execution_count": 8,
   "id": "2fc0f718-0712-4d38-b2ce-0f059ab0d014",
   "metadata": {},
   "outputs": [],
   "source": [
    "# df_data.columns.values"
   ]
  },
  {
   "cell_type": "code",
   "execution_count": 9,
   "id": "8e0629d9-94c4-4975-b894-b103738b5bbc",
   "metadata": {},
   "outputs": [
    {
     "data": {
      "text/plain": [
       "(16685, 46)"
      ]
     },
     "execution_count": 9,
     "metadata": {},
     "output_type": "execute_result"
    }
   ],
   "source": [
    "# Remove columns with red light running counts\n",
    "columns = [column for column in df_data.columns if \"Cnt\" not in column]\n",
    "\n",
    "df_data = df_data[columns]\n",
    "df_data.shape"
   ]
  },
  {
   "cell_type": "code",
   "execution_count": null,
   "id": "f34bc764-4622-4b8f-b6c8-ac5c5c1fe4b8",
   "metadata": {},
   "outputs": [],
   "source": []
  },
  {
   "cell_type": "code",
   "execution_count": null,
   "id": "3988dde3-83c3-46a8-a0e1-904c2a98d324",
   "metadata": {},
   "outputs": [],
   "source": []
  },
  {
   "cell_type": "code",
   "execution_count": null,
   "id": "73b6c9bd-7bc2-4309-ab37-bb229cc5e898",
   "metadata": {},
   "outputs": [],
   "source": []
  },
  {
   "cell_type": "code",
   "execution_count": null,
   "id": "c5fc0df3-0b2d-4b99-a221-298dfc1b625b",
   "metadata": {},
   "outputs": [],
   "source": []
  },
  {
   "cell_type": "code",
   "execution_count": null,
   "id": "d935b204-22ef-4794-9f15-b03ca83328a7",
   "metadata": {},
   "outputs": [],
   "source": []
  },
  {
   "cell_type": "code",
   "execution_count": null,
   "id": "aa638f0c-6669-45e1-90e5-70e68e9bbf5b",
   "metadata": {},
   "outputs": [],
   "source": []
  },
  {
   "cell_type": "code",
   "execution_count": null,
   "id": "305b73d2-1fa3-4e17-9ea2-ffbb49eaa458",
   "metadata": {},
   "outputs": [],
   "source": []
  },
  {
   "cell_type": "code",
   "execution_count": null,
   "id": "ed188c52-8c72-410f-a210-8122fc795231",
   "metadata": {},
   "outputs": [],
   "source": []
  },
  {
   "cell_type": "code",
   "execution_count": null,
   "id": "fa8e113c-2c92-423c-b935-bcdcbd575a54",
   "metadata": {},
   "outputs": [],
   "source": []
  },
  {
   "cell_type": "code",
   "execution_count": null,
   "id": "efedf4ce-afbd-4831-933c-6a2b1331280b",
   "metadata": {},
   "outputs": [],
   "source": []
  }
 ],
 "metadata": {
  "kernelspec": {
   "display_name": "Python 3 (ipykernel)",
   "language": "python",
   "name": "python3"
  },
  "language_info": {
   "codemirror_mode": {
    "name": "ipython",
    "version": 3
   },
   "file_extension": ".py",
   "mimetype": "text/x-python",
   "name": "python",
   "nbconvert_exporter": "python",
   "pygments_lexer": "ipython3",
   "version": "3.10.0"
  }
 },
 "nbformat": 4,
 "nbformat_minor": 5
}
